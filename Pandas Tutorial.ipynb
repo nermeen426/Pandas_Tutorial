{
 "cells": [
  {
   "cell_type": "code",
   "execution_count": 94,
   "id": "9f4e96cd",
   "metadata": {},
   "outputs": [],
   "source": [
    "import pandas as pd"
   ]
  },
  {
   "cell_type": "markdown",
   "id": "b1f84c3e",
   "metadata": {},
   "source": [
    "# Pandas Series\n",
    "A Pandas Series is like a column in a table.\n",
    "\n",
    "It is a one-dimensional array holding data of any type."
   ]
  },
  {
   "cell_type": "code",
   "execution_count": 95,
   "id": "6b849e9b",
   "metadata": {},
   "outputs": [],
   "source": [
    "# Create a simple Pandas Series from a list:\n",
    "a = [1, 7, 2]"
   ]
  },
  {
   "cell_type": "code",
   "execution_count": 96,
   "id": "2506b37f",
   "metadata": {},
   "outputs": [],
   "source": [
    "Series1 = pd.Series(a)"
   ]
  },
  {
   "cell_type": "code",
   "execution_count": 97,
   "id": "05834f8c",
   "metadata": {},
   "outputs": [
    {
     "name": "stdout",
     "output_type": "stream",
     "text": [
      "0    1\n",
      "1    7\n",
      "2    2\n",
      "dtype: int64\n"
     ]
    }
   ],
   "source": [
    "print(Series1)"
   ]
  },
  {
   "cell_type": "markdown",
   "id": "0a628a6a",
   "metadata": {},
   "source": [
    "# Labels\n",
    "If nothing else is specified, the values are labeled with their index number. First value has index 0, second value has index 1 etc."
   ]
  },
  {
   "cell_type": "code",
   "execution_count": 98,
   "id": "362a1812",
   "metadata": {},
   "outputs": [
    {
     "name": "stdout",
     "output_type": "stream",
     "text": [
      "1\n"
     ]
    }
   ],
   "source": [
    "print(Series1[0])"
   ]
  },
  {
   "cell_type": "markdown",
   "id": "14d0f66c",
   "metadata": {},
   "source": [
    "# Create Labels\n",
    "With the index argument, you can name your own labels."
   ]
  },
  {
   "cell_type": "code",
   "execution_count": 99,
   "id": "a137ffda",
   "metadata": {},
   "outputs": [],
   "source": [
    "Series2 = pd.Series(a, index = [\"X\", \"Y\", \"Z\"])"
   ]
  },
  {
   "cell_type": "code",
   "execution_count": 100,
   "id": "aacbf96f",
   "metadata": {},
   "outputs": [
    {
     "name": "stdout",
     "output_type": "stream",
     "text": [
      "X    1\n",
      "Y    7\n",
      "Z    2\n",
      "dtype: int64\n"
     ]
    }
   ],
   "source": [
    "print(Series2)"
   ]
  },
  {
   "cell_type": "code",
   "execution_count": 101,
   "id": "c87b8fa4",
   "metadata": {},
   "outputs": [
    {
     "name": "stdout",
     "output_type": "stream",
     "text": [
      "1\n"
     ]
    }
   ],
   "source": [
    "# When you have created labels, you can access an item by referring to the label.\n",
    "print(Series2[\"X\"])"
   ]
  },
  {
   "cell_type": "markdown",
   "id": "5ef8fbf5",
   "metadata": {},
   "source": [
    "# Key/Value Objects as Series\n",
    "You can also use a key/value object, like a dictionary, when creating a Series."
   ]
  },
  {
   "cell_type": "code",
   "execution_count": 102,
   "id": "277401a3",
   "metadata": {},
   "outputs": [],
   "source": [
    "calories = {\"day1\" : 420, \"day2\" : 380, \"day3\" : 390}\n",
    "\n",
    "Series3 = pd.Series(calories)"
   ]
  },
  {
   "cell_type": "code",
   "execution_count": 103,
   "id": "ad1e6c52",
   "metadata": {},
   "outputs": [
    {
     "name": "stdout",
     "output_type": "stream",
     "text": [
      "day1    420\n",
      "day2    380\n",
      "day3    390\n",
      "dtype: int64\n"
     ]
    }
   ],
   "source": [
    "print(Series3)"
   ]
  },
  {
   "cell_type": "markdown",
   "id": "7fed85ff",
   "metadata": {},
   "source": [
    "To select only some of the items in the dictionary, use the index argument and specify only the items you want to include in the Series."
   ]
  },
  {
   "cell_type": "code",
   "execution_count": 104,
   "id": "b847a98d",
   "metadata": {},
   "outputs": [],
   "source": [
    "Series4 = pd.Series(calories, index = [\"day1\", \"day2\"])"
   ]
  },
  {
   "cell_type": "code",
   "execution_count": 105,
   "id": "b24d446b",
   "metadata": {},
   "outputs": [
    {
     "name": "stdout",
     "output_type": "stream",
     "text": [
      "day1    420\n",
      "day2    380\n",
      "dtype: int64\n"
     ]
    }
   ],
   "source": [
    "print(Series4)"
   ]
  },
  {
   "cell_type": "markdown",
   "id": "e5e28352",
   "metadata": {},
   "source": [
    "# DataFrames\n",
    "Data sets in Pandas are usually multi-dimensional tables, called DataFrames.\n",
    "\n",
    "Series is like a column, a DataFrame is the whole table."
   ]
  },
  {
   "cell_type": "code",
   "execution_count": 106,
   "id": "d26c0a13",
   "metadata": {},
   "outputs": [],
   "source": [
    "data = {\n",
    "    \"calories\" : [420, 380, 390],\n",
    "    \"duration\" : [50, 40, 45]\n",
    "}\n",
    "\n",
    "Series5 = pd.DataFrame(data)"
   ]
  },
  {
   "cell_type": "code",
   "execution_count": 107,
   "id": "8cb199d7",
   "metadata": {},
   "outputs": [
    {
     "name": "stdout",
     "output_type": "stream",
     "text": [
      "   calories  duration\n",
      "0       420        50\n",
      "1       380        40\n",
      "2       390        45\n"
     ]
    }
   ],
   "source": [
    "print(Series5)"
   ]
  },
  {
   "cell_type": "markdown",
   "id": "b078421d",
   "metadata": {},
   "source": [
    "# Locate Row\n",
    "Pandas use the loc attribute to return one or more specified row(s)"
   ]
  },
  {
   "cell_type": "code",
   "execution_count": 108,
   "id": "19b32953",
   "metadata": {},
   "outputs": [
    {
     "name": "stdout",
     "output_type": "stream",
     "text": [
      "calories    420\n",
      "duration     50\n",
      "Name: 0, dtype: int64\n"
     ]
    }
   ],
   "source": [
    "print(Series5.loc[0])"
   ]
  },
  {
   "cell_type": "code",
   "execution_count": 109,
   "id": "515ee96f",
   "metadata": {},
   "outputs": [
    {
     "name": "stdout",
     "output_type": "stream",
     "text": [
      "   calories  duration\n",
      "0       420        50\n",
      "1       380        40\n"
     ]
    }
   ],
   "source": [
    "print(Series5.loc[[0, 1]])"
   ]
  },
  {
   "cell_type": "markdown",
   "id": "c0ddc41c",
   "metadata": {},
   "source": [
    "# Named Indexes\n",
    "With the index argument, you can name your own indexes."
   ]
  },
  {
   "cell_type": "code",
   "execution_count": 61,
   "id": "d5859431",
   "metadata": {},
   "outputs": [],
   "source": [
    "# Add a list of names to give each row a name:\n",
    "Series6 = pd.DataFrame(data, index = [\"day1\", \"day2\", \"day3\"])"
   ]
  },
  {
   "cell_type": "code",
   "execution_count": 62,
   "id": "2c4f495c",
   "metadata": {},
   "outputs": [
    {
     "name": "stdout",
     "output_type": "stream",
     "text": [
      "      calories  duration\n",
      "day1       420        50\n",
      "day2       380        40\n",
      "day3       390        45\n"
     ]
    }
   ],
   "source": [
    "print(Series6)"
   ]
  },
  {
   "cell_type": "markdown",
   "id": "a3d62681",
   "metadata": {},
   "source": [
    "# Locate Named Indexes\n",
    "Use the named index in the loc attribute to return the specified row(s)."
   ]
  },
  {
   "cell_type": "code",
   "execution_count": 63,
   "id": "9d5f3956",
   "metadata": {},
   "outputs": [
    {
     "name": "stdout",
     "output_type": "stream",
     "text": [
      "calories    380\n",
      "duration     40\n",
      "Name: day2, dtype: int64\n"
     ]
    }
   ],
   "source": [
    "# refer to the named index:\n",
    "print(Series6.loc[\"day2\"])"
   ]
  },
  {
   "cell_type": "markdown",
   "id": "af8ab4ae",
   "metadata": {},
   "source": [
    "# Load Files Into a DataFrame\n",
    "If your data sets are stored in a file, Pandas can load them into a DataFrame."
   ]
  },
  {
   "cell_type": "code",
   "execution_count": 110,
   "id": "12b08024",
   "metadata": {},
   "outputs": [],
   "source": [
    "# Load a comma separated file (CSV file) into a DataFrame:\n",
    "data = pd.read_csv('data.csv')"
   ]
  },
  {
   "cell_type": "code",
   "execution_count": 111,
   "id": "6fda1ddf",
   "metadata": {},
   "outputs": [
    {
     "name": "stdout",
     "output_type": "stream",
     "text": [
      "     Duration  Pulse  Maxpulse  Calories\n",
      "0          60    110       130     409.1\n",
      "1          60    117       145     479.0\n",
      "2          60    103       135     340.0\n",
      "3          45    109       175     282.4\n",
      "4          45    117       148     406.0\n",
      "5          60    102       127     300.0\n",
      "6          60    110       136     374.0\n",
      "7          45    104       134     253.3\n",
      "8          30    109       133     195.1\n",
      "9          60     98       124     269.0\n",
      "10         60    103       147     329.3\n",
      "11         60    100       120     250.7\n",
      "12         60    106       128     345.3\n",
      "13         60    104       132     379.3\n",
      "14         60     98       123     275.0\n",
      "15         60     98       120     215.2\n",
      "16         60    100       120     300.0\n",
      "17         45     90       112       NaN\n",
      "18         60    103       123     323.0\n",
      "19         45     97       125     243.0\n",
      "20         60    108       131     364.2\n",
      "21         45    100       119     282.0\n",
      "22         60    130       101     300.0\n",
      "23         45    105       132     246.0\n",
      "24         60    102       126     334.5\n",
      "25         60    100       120     250.0\n",
      "26         60     92       118     241.0\n",
      "27         60    103       132       NaN\n",
      "28         60    100       132     280.0\n",
      "29         60    102       129     380.3\n",
      "30         60     92       115     243.0\n",
      "31         45     90       112     180.1\n",
      "32         60    101       124     299.0\n",
      "33         60     93       113     223.0\n",
      "34         60    107       136     361.0\n",
      "35         60    114       140     415.0\n",
      "36         60    102       127     300.0\n",
      "37         60    100       120     300.0\n",
      "38         60    100       120     300.0\n",
      "39         45    104       129     266.0\n",
      "40         45     90       112     180.1\n",
      "41         60     98       126     286.0\n",
      "42         60    100       122     329.4\n",
      "43         60    111       138     400.0\n",
      "44         60    111       131     397.0\n",
      "45         60     99       119     273.0\n",
      "46         60    109       153     387.6\n",
      "47         45    111       136     300.0\n",
      "48         45    108       129     298.0\n",
      "49         60    111       139     397.6\n",
      "50         60    107       136     380.2\n",
      "51         80    123       146     643.1\n",
      "52         60    106       130     263.0\n",
      "53         60    118       151     486.0\n",
      "54         30    136       175     238.0\n",
      "55         60    121       146     450.7\n",
      "56         60    118       121     413.0\n",
      "57         45    115       144     305.0\n",
      "58         20    153       172     226.4\n",
      "59         45    123       152     321.0\n",
      "60        210    108       160    1376.0\n",
      "61        160    110       137    1034.4\n",
      "62        160    109       135     853.0\n",
      "63         45    118       141     341.0\n",
      "64         20    110       130     131.4\n",
      "65        180     90       130     800.4\n",
      "66        150    105       135     873.4\n",
      "67        150    107       130     816.0\n",
      "68         20    106       136     110.4\n",
      "69        300    108       143    1500.2\n",
      "70        150     97       129    1115.0\n",
      "71         60    109       153     387.6\n",
      "72         90    100       127     700.0\n",
      "73        150     97       127     953.2\n",
      "74         45    114       146     304.0\n",
      "75         90     98       125     563.2\n",
      "76         45    105       134     251.0\n",
      "77         45    110       141     300.0\n",
      "78        120    100       130     500.4\n",
      "79        270    100       131    1729.0\n",
      "80         30    159       182     319.2\n",
      "81         45    149       169     344.0\n",
      "82         30    103       139     151.1\n",
      "83        120    100       130     500.0\n",
      "84         45    100       120     225.3\n",
      "85         30    151       170     300.0\n",
      "86         45    102       136     234.0\n",
      "87        120    100       157    1000.1\n",
      "88         45    129       103     242.0\n",
      "89         20     83       107      50.3\n",
      "90        180    101       127     600.1\n",
      "91         45    107       137       NaN\n",
      "92         30     90       107     105.3\n",
      "93         15     80       100      50.5\n",
      "94         20    150       171     127.4\n",
      "95         20    151       168     229.4\n",
      "96         30     95       128     128.2\n",
      "97         25    152       168     244.2\n",
      "98         30    109       131     188.2\n",
      "99         90     93       124     604.1\n",
      "100        20     95       112      77.7\n",
      "101        90     90       110     500.0\n",
      "102        90     90       100     500.0\n",
      "103        90     90       100     500.4\n",
      "104        30     92       108      92.7\n",
      "105        30     93       128     124.0\n",
      "106       180     90       120     800.3\n",
      "107        30     90       120      86.2\n",
      "108        90     90       120     500.3\n",
      "109       210    137       184    1860.4\n",
      "110        60    102       124     325.2\n",
      "111        45    107       124     275.0\n",
      "112        15    124       139     124.2\n",
      "113        45    100       120     225.3\n",
      "114        60    108       131     367.6\n",
      "115        60    108       151     351.7\n",
      "116        60    116       141     443.0\n",
      "117        60     97       122     277.4\n",
      "118        60    105       125       NaN\n",
      "119        60    103       124     332.7\n",
      "120        30    112       137     193.9\n",
      "121        45    100       120     100.7\n",
      "122        60    119       169     336.7\n",
      "123        60    107       127     344.9\n",
      "124        60    111       151     368.5\n",
      "125        60     98       122     271.0\n",
      "126        60     97       124     275.3\n",
      "127        60    109       127     382.0\n",
      "128        90     99       125     466.4\n",
      "129        60    114       151     384.0\n",
      "130        60    104       134     342.5\n",
      "131        60    107       138     357.5\n",
      "132        60    103       133     335.0\n",
      "133        60    106       132     327.5\n",
      "134        60    103       136     339.0\n",
      "135        20    136       156     189.0\n",
      "136        45    117       143     317.7\n",
      "137        45    115       137     318.0\n",
      "138        45    113       138     308.0\n",
      "139        20    141       162     222.4\n",
      "140        60    108       135     390.0\n",
      "141        60     97       127       NaN\n",
      "142        45    100       120     250.4\n",
      "143        45    122       149     335.4\n",
      "144        60    136       170     470.2\n",
      "145        45    106       126     270.8\n",
      "146        60    107       136     400.0\n",
      "147        60    112       146     361.9\n",
      "148        30    103       127     185.0\n",
      "149        60    110       150     409.4\n",
      "150        60    106       134     343.0\n",
      "151        60    109       129     353.2\n",
      "152        60    109       138     374.0\n",
      "153        30    150       167     275.8\n",
      "154        60    105       128     328.0\n",
      "155        60    111       151     368.5\n",
      "156        60     97       131     270.4\n",
      "157        60    100       120     270.4\n",
      "158        60    114       150     382.8\n",
      "159        30     80       120     240.9\n",
      "160        30     85       120     250.4\n",
      "161        45     90       130     260.4\n",
      "162        45     95       130     270.0\n",
      "163        45    100       140     280.9\n",
      "164        60    105       140     290.8\n",
      "165        60    110       145     300.0\n",
      "166        60    115       145     310.2\n",
      "167        75    120       150     320.4\n",
      "168        75    125       150     330.4\n"
     ]
    }
   ],
   "source": [
    "# use to_string() to print the entire DataFrame.\n",
    "print(data.to_string())"
   ]
  },
  {
   "cell_type": "code",
   "execution_count": 66,
   "id": "f1821321",
   "metadata": {},
   "outputs": [
    {
     "name": "stdout",
     "output_type": "stream",
     "text": [
      "     Duration  Pulse  Maxpulse  Calories\n",
      "0          60    110       130     409.1\n",
      "1          60    117       145     479.0\n",
      "2          60    103       135     340.0\n",
      "3          45    109       175     282.4\n",
      "4          45    117       148     406.0\n",
      "5          60    102       127     300.0\n",
      "6          60    110       136     374.0\n",
      "7          45    104       134     253.3\n",
      "8          30    109       133     195.1\n",
      "9          60     98       124     269.0\n",
      "10         60    103       147     329.3\n",
      "11         60    100       120     250.7\n",
      "12         60    106       128     345.3\n",
      "13         60    104       132     379.3\n",
      "14         60     98       123     275.0\n",
      "15         60     98       120     215.2\n",
      "16         60    100       120     300.0\n",
      "17         45     90       112       NaN\n",
      "18         60    103       123     323.0\n",
      "19         45     97       125     243.0\n",
      "20         60    108       131     364.2\n",
      "21         45    100       119     282.0\n",
      "22         60    130       101     300.0\n",
      "23         45    105       132     246.0\n",
      "24         60    102       126     334.5\n",
      "25         60    100       120     250.0\n",
      "26         60     92       118     241.0\n",
      "27         60    103       132       NaN\n",
      "28         60    100       132     280.0\n",
      "29         60    102       129     380.3\n",
      "30         60     92       115     243.0\n",
      "31         45     90       112     180.1\n",
      "32         60    101       124     299.0\n",
      "33         60     93       113     223.0\n",
      "34         60    107       136     361.0\n",
      "35         60    114       140     415.0\n",
      "36         60    102       127     300.0\n",
      "37         60    100       120     300.0\n",
      "38         60    100       120     300.0\n",
      "39         45    104       129     266.0\n",
      "40         45     90       112     180.1\n",
      "41         60     98       126     286.0\n",
      "42         60    100       122     329.4\n",
      "43         60    111       138     400.0\n",
      "44         60    111       131     397.0\n",
      "45         60     99       119     273.0\n",
      "46         60    109       153     387.6\n",
      "47         45    111       136     300.0\n",
      "48         45    108       129     298.0\n",
      "49         60    111       139     397.6\n",
      "50         60    107       136     380.2\n",
      "51         80    123       146     643.1\n",
      "52         60    106       130     263.0\n",
      "53         60    118       151     486.0\n",
      "54         30    136       175     238.0\n",
      "55         60    121       146     450.7\n",
      "56         60    118       121     413.0\n",
      "57         45    115       144     305.0\n",
      "58         20    153       172     226.4\n",
      "59         45    123       152     321.0\n",
      "60        210    108       160    1376.0\n",
      "61        160    110       137    1034.4\n",
      "62        160    109       135     853.0\n",
      "63         45    118       141     341.0\n",
      "64         20    110       130     131.4\n",
      "65        180     90       130     800.4\n",
      "66        150    105       135     873.4\n",
      "67        150    107       130     816.0\n",
      "68         20    106       136     110.4\n",
      "69        300    108       143    1500.2\n",
      "70        150     97       129    1115.0\n",
      "71         60    109       153     387.6\n",
      "72         90    100       127     700.0\n",
      "73        150     97       127     953.2\n",
      "74         45    114       146     304.0\n",
      "75         90     98       125     563.2\n",
      "76         45    105       134     251.0\n",
      "77         45    110       141     300.0\n",
      "78        120    100       130     500.4\n",
      "79        270    100       131    1729.0\n",
      "80         30    159       182     319.2\n",
      "81         45    149       169     344.0\n",
      "82         30    103       139     151.1\n",
      "83        120    100       130     500.0\n",
      "84         45    100       120     225.3\n",
      "85         30    151       170     300.0\n",
      "86         45    102       136     234.0\n",
      "87        120    100       157    1000.1\n",
      "88         45    129       103     242.0\n",
      "89         20     83       107      50.3\n",
      "90        180    101       127     600.1\n",
      "91         45    107       137       NaN\n",
      "92         30     90       107     105.3\n",
      "93         15     80       100      50.5\n",
      "94         20    150       171     127.4\n",
      "95         20    151       168     229.4\n",
      "96         30     95       128     128.2\n",
      "97         25    152       168     244.2\n",
      "98         30    109       131     188.2\n",
      "99         90     93       124     604.1\n",
      "100        20     95       112      77.7\n",
      "101        90     90       110     500.0\n",
      "102        90     90       100     500.0\n",
      "103        90     90       100     500.4\n",
      "104        30     92       108      92.7\n",
      "105        30     93       128     124.0\n",
      "106       180     90       120     800.3\n",
      "107        30     90       120      86.2\n",
      "108        90     90       120     500.3\n",
      "109       210    137       184    1860.4\n",
      "110        60    102       124     325.2\n",
      "111        45    107       124     275.0\n",
      "112        15    124       139     124.2\n",
      "113        45    100       120     225.3\n",
      "114        60    108       131     367.6\n",
      "115        60    108       151     351.7\n",
      "116        60    116       141     443.0\n",
      "117        60     97       122     277.4\n",
      "118        60    105       125       NaN\n",
      "119        60    103       124     332.7\n",
      "120        30    112       137     193.9\n",
      "121        45    100       120     100.7\n",
      "122        60    119       169     336.7\n",
      "123        60    107       127     344.9\n",
      "124        60    111       151     368.5\n",
      "125        60     98       122     271.0\n",
      "126        60     97       124     275.3\n",
      "127        60    109       127     382.0\n",
      "128        90     99       125     466.4\n",
      "129        60    114       151     384.0\n",
      "130        60    104       134     342.5\n",
      "131        60    107       138     357.5\n",
      "132        60    103       133     335.0\n",
      "133        60    106       132     327.5\n",
      "134        60    103       136     339.0\n",
      "135        20    136       156     189.0\n",
      "136        45    117       143     317.7\n",
      "137        45    115       137     318.0\n",
      "138        45    113       138     308.0\n",
      "139        20    141       162     222.4\n",
      "140        60    108       135     390.0\n",
      "141        60     97       127       NaN\n",
      "142        45    100       120     250.4\n",
      "143        45    122       149     335.4\n",
      "144        60    136       170     470.2\n",
      "145        45    106       126     270.8\n",
      "146        60    107       136     400.0\n",
      "147        60    112       146     361.9\n",
      "148        30    103       127     185.0\n",
      "149        60    110       150     409.4\n",
      "150        60    106       134     343.0\n",
      "151        60    109       129     353.2\n",
      "152        60    109       138     374.0\n",
      "153        30    150       167     275.8\n",
      "154        60    105       128     328.0\n",
      "155        60    111       151     368.5\n",
      "156        60     97       131     270.4\n",
      "157        60    100       120     270.4\n",
      "158        60    114       150     382.8\n",
      "159        30     80       120     240.9\n",
      "160        30     85       120     250.4\n",
      "161        45     90       130     260.4\n",
      "162        45     95       130     270.0\n",
      "163        45    100       140     280.9\n",
      "164        60    105       140     290.8\n",
      "165        60    110       145     300.0\n",
      "166        60    115       145     310.2\n",
      "167        75    120       150     320.4\n",
      "168        75    125       150     330.4\n"
     ]
    }
   ],
   "source": [
    "# Print the DataFrame without the to_string() method:\n",
    "print(data)"
   ]
  },
  {
   "cell_type": "markdown",
   "id": "70b92fde",
   "metadata": {},
   "source": [
    "# max_rows\n",
    "In my system the number is 60, which means that if the DataFrame contains more than 60 rows, the print(data) statement will return only the headers and the first and last 5 rows."
   ]
  },
  {
   "cell_type": "code",
   "execution_count": 67,
   "id": "c6f3555e",
   "metadata": {},
   "outputs": [
    {
     "name": "stdout",
     "output_type": "stream",
     "text": [
      "999\n"
     ]
    }
   ],
   "source": [
    "print(pd.options.display.max_rows)"
   ]
  },
  {
   "cell_type": "code",
   "execution_count": 68,
   "id": "9ddd5744",
   "metadata": {},
   "outputs": [],
   "source": [
    "pd.options.display.max_rows = 999"
   ]
  },
  {
   "cell_type": "code",
   "execution_count": 69,
   "id": "5f06ae88",
   "metadata": {},
   "outputs": [
    {
     "name": "stdout",
     "output_type": "stream",
     "text": [
      "     Duration  Pulse  Maxpulse  Calories\n",
      "0          60    110       130     409.1\n",
      "1          60    117       145     479.0\n",
      "2          60    103       135     340.0\n",
      "3          45    109       175     282.4\n",
      "4          45    117       148     406.0\n",
      "5          60    102       127     300.0\n",
      "6          60    110       136     374.0\n",
      "7          45    104       134     253.3\n",
      "8          30    109       133     195.1\n",
      "9          60     98       124     269.0\n",
      "10         60    103       147     329.3\n",
      "11         60    100       120     250.7\n",
      "12         60    106       128     345.3\n",
      "13         60    104       132     379.3\n",
      "14         60     98       123     275.0\n",
      "15         60     98       120     215.2\n",
      "16         60    100       120     300.0\n",
      "17         45     90       112       NaN\n",
      "18         60    103       123     323.0\n",
      "19         45     97       125     243.0\n",
      "20         60    108       131     364.2\n",
      "21         45    100       119     282.0\n",
      "22         60    130       101     300.0\n",
      "23         45    105       132     246.0\n",
      "24         60    102       126     334.5\n",
      "25         60    100       120     250.0\n",
      "26         60     92       118     241.0\n",
      "27         60    103       132       NaN\n",
      "28         60    100       132     280.0\n",
      "29         60    102       129     380.3\n",
      "30         60     92       115     243.0\n",
      "31         45     90       112     180.1\n",
      "32         60    101       124     299.0\n",
      "33         60     93       113     223.0\n",
      "34         60    107       136     361.0\n",
      "35         60    114       140     415.0\n",
      "36         60    102       127     300.0\n",
      "37         60    100       120     300.0\n",
      "38         60    100       120     300.0\n",
      "39         45    104       129     266.0\n",
      "40         45     90       112     180.1\n",
      "41         60     98       126     286.0\n",
      "42         60    100       122     329.4\n",
      "43         60    111       138     400.0\n",
      "44         60    111       131     397.0\n",
      "45         60     99       119     273.0\n",
      "46         60    109       153     387.6\n",
      "47         45    111       136     300.0\n",
      "48         45    108       129     298.0\n",
      "49         60    111       139     397.6\n",
      "50         60    107       136     380.2\n",
      "51         80    123       146     643.1\n",
      "52         60    106       130     263.0\n",
      "53         60    118       151     486.0\n",
      "54         30    136       175     238.0\n",
      "55         60    121       146     450.7\n",
      "56         60    118       121     413.0\n",
      "57         45    115       144     305.0\n",
      "58         20    153       172     226.4\n",
      "59         45    123       152     321.0\n",
      "60        210    108       160    1376.0\n",
      "61        160    110       137    1034.4\n",
      "62        160    109       135     853.0\n",
      "63         45    118       141     341.0\n",
      "64         20    110       130     131.4\n",
      "65        180     90       130     800.4\n",
      "66        150    105       135     873.4\n",
      "67        150    107       130     816.0\n",
      "68         20    106       136     110.4\n",
      "69        300    108       143    1500.2\n",
      "70        150     97       129    1115.0\n",
      "71         60    109       153     387.6\n",
      "72         90    100       127     700.0\n",
      "73        150     97       127     953.2\n",
      "74         45    114       146     304.0\n",
      "75         90     98       125     563.2\n",
      "76         45    105       134     251.0\n",
      "77         45    110       141     300.0\n",
      "78        120    100       130     500.4\n",
      "79        270    100       131    1729.0\n",
      "80         30    159       182     319.2\n",
      "81         45    149       169     344.0\n",
      "82         30    103       139     151.1\n",
      "83        120    100       130     500.0\n",
      "84         45    100       120     225.3\n",
      "85         30    151       170     300.0\n",
      "86         45    102       136     234.0\n",
      "87        120    100       157    1000.1\n",
      "88         45    129       103     242.0\n",
      "89         20     83       107      50.3\n",
      "90        180    101       127     600.1\n",
      "91         45    107       137       NaN\n",
      "92         30     90       107     105.3\n",
      "93         15     80       100      50.5\n",
      "94         20    150       171     127.4\n",
      "95         20    151       168     229.4\n",
      "96         30     95       128     128.2\n",
      "97         25    152       168     244.2\n",
      "98         30    109       131     188.2\n",
      "99         90     93       124     604.1\n",
      "100        20     95       112      77.7\n",
      "101        90     90       110     500.0\n",
      "102        90     90       100     500.0\n",
      "103        90     90       100     500.4\n",
      "104        30     92       108      92.7\n",
      "105        30     93       128     124.0\n",
      "106       180     90       120     800.3\n",
      "107        30     90       120      86.2\n",
      "108        90     90       120     500.3\n",
      "109       210    137       184    1860.4\n",
      "110        60    102       124     325.2\n",
      "111        45    107       124     275.0\n",
      "112        15    124       139     124.2\n",
      "113        45    100       120     225.3\n",
      "114        60    108       131     367.6\n",
      "115        60    108       151     351.7\n",
      "116        60    116       141     443.0\n",
      "117        60     97       122     277.4\n",
      "118        60    105       125       NaN\n",
      "119        60    103       124     332.7\n",
      "120        30    112       137     193.9\n",
      "121        45    100       120     100.7\n",
      "122        60    119       169     336.7\n",
      "123        60    107       127     344.9\n",
      "124        60    111       151     368.5\n",
      "125        60     98       122     271.0\n",
      "126        60     97       124     275.3\n",
      "127        60    109       127     382.0\n",
      "128        90     99       125     466.4\n",
      "129        60    114       151     384.0\n",
      "130        60    104       134     342.5\n",
      "131        60    107       138     357.5\n",
      "132        60    103       133     335.0\n",
      "133        60    106       132     327.5\n",
      "134        60    103       136     339.0\n",
      "135        20    136       156     189.0\n",
      "136        45    117       143     317.7\n",
      "137        45    115       137     318.0\n",
      "138        45    113       138     308.0\n",
      "139        20    141       162     222.4\n",
      "140        60    108       135     390.0\n",
      "141        60     97       127       NaN\n",
      "142        45    100       120     250.4\n",
      "143        45    122       149     335.4\n",
      "144        60    136       170     470.2\n",
      "145        45    106       126     270.8\n",
      "146        60    107       136     400.0\n",
      "147        60    112       146     361.9\n",
      "148        30    103       127     185.0\n",
      "149        60    110       150     409.4\n",
      "150        60    106       134     343.0\n",
      "151        60    109       129     353.2\n",
      "152        60    109       138     374.0\n",
      "153        30    150       167     275.8\n",
      "154        60    105       128     328.0\n",
      "155        60    111       151     368.5\n",
      "156        60     97       131     270.4\n",
      "157        60    100       120     270.4\n",
      "158        60    114       150     382.8\n",
      "159        30     80       120     240.9\n",
      "160        30     85       120     250.4\n",
      "161        45     90       130     260.4\n",
      "162        45     95       130     270.0\n",
      "163        45    100       140     280.9\n",
      "164        60    105       140     290.8\n",
      "165        60    110       145     300.0\n",
      "166        60    115       145     310.2\n",
      "167        75    120       150     320.4\n",
      "168        75    125       150     330.4\n"
     ]
    }
   ],
   "source": [
    "data1 = pd.read_csv('data.csv')\n",
    "\n",
    "print(data1) "
   ]
  },
  {
   "cell_type": "markdown",
   "id": "49d53048",
   "metadata": {},
   "source": [
    "# Viewing the Data\n",
    "The head() method returns the headers and a specified number of rows, starting from the top.\n",
    "\n",
    "The tail() method returns the headers and a specified number of rows, starting from the bottom."
   ]
  },
  {
   "cell_type": "code",
   "execution_count": 70,
   "id": "545e4386",
   "metadata": {},
   "outputs": [
    {
     "name": "stdout",
     "output_type": "stream",
     "text": [
      "   Duration  Pulse  Maxpulse  Calories\n",
      "0        60    110       130     409.1\n",
      "1        60    117       145     479.0\n",
      "2        60    103       135     340.0\n",
      "3        45    109       175     282.4\n",
      "4        45    117       148     406.0\n",
      "5        60    102       127     300.0\n",
      "6        60    110       136     374.0\n",
      "7        45    104       134     253.3\n",
      "8        30    109       133     195.1\n",
      "9        60     98       124     269.0\n"
     ]
    }
   ],
   "source": [
    "# Get a quick overview by printing the first 10 rows of the DataFrame:\n",
    "print(data.head(10))"
   ]
  },
  {
   "cell_type": "code",
   "execution_count": 71,
   "id": "e515dfcc",
   "metadata": {},
   "outputs": [
    {
     "name": "stdout",
     "output_type": "stream",
     "text": [
      "   Duration  Pulse  Maxpulse  Calories\n",
      "0        60    110       130     409.1\n",
      "1        60    117       145     479.0\n",
      "2        60    103       135     340.0\n",
      "3        45    109       175     282.4\n",
      "4        45    117       148     406.0\n"
     ]
    }
   ],
   "source": [
    "# Print the first 5 rows of the DataFrame:\n",
    "print(data.head())"
   ]
  },
  {
   "cell_type": "code",
   "execution_count": 72,
   "id": "a592f8ac",
   "metadata": {},
   "outputs": [
    {
     "name": "stdout",
     "output_type": "stream",
     "text": [
      "     Duration  Pulse  Maxpulse  Calories\n",
      "164        60    105       140     290.8\n",
      "165        60    110       145     300.0\n",
      "166        60    115       145     310.2\n",
      "167        75    120       150     320.4\n",
      "168        75    125       150     330.4\n"
     ]
    }
   ],
   "source": [
    "print(data.tail())"
   ]
  },
  {
   "cell_type": "markdown",
   "id": "401cd1c0",
   "metadata": {},
   "source": [
    "# Info About the Data\n",
    "The DataFrames object has a method called info(), that gives you more information about the data set."
   ]
  },
  {
   "cell_type": "code",
   "execution_count": 73,
   "id": "51274bff",
   "metadata": {},
   "outputs": [
    {
     "name": "stdout",
     "output_type": "stream",
     "text": [
      "<class 'pandas.core.frame.DataFrame'>\n",
      "RangeIndex: 169 entries, 0 to 168\n",
      "Data columns (total 4 columns):\n",
      " #   Column    Non-Null Count  Dtype  \n",
      "---  ------    --------------  -----  \n",
      " 0   Duration  169 non-null    int64  \n",
      " 1   Pulse     169 non-null    int64  \n",
      " 2   Maxpulse  169 non-null    int64  \n",
      " 3   Calories  164 non-null    float64\n",
      "dtypes: float64(1), int64(3)\n",
      "memory usage: 5.4 KB\n",
      "None\n"
     ]
    }
   ],
   "source": [
    "print(data.info())"
   ]
  },
  {
   "cell_type": "code",
   "execution_count": 114,
   "id": "8ddb1a55",
   "metadata": {},
   "outputs": [],
   "source": [
    "dff = pd.read_csv('df.csv')"
   ]
  },
  {
   "cell_type": "code",
   "execution_count": 115,
   "id": "5ce2a74e",
   "metadata": {},
   "outputs": [
    {
     "name": "stdout",
     "output_type": "stream",
     "text": [
      "    Duration        Date    Pulse  Maxpulse  Calories\n",
      "0         60   2020/12/01'    110       130     409.1\n",
      "1         60  '2020/12/02'    117       145     479.0\n",
      "2         60  '2020/12/03'    103       135     340.0\n",
      "3         45  '2020/12/04'    109       175     282.4\n",
      "4         45   2020/12/05'    117       148     406.0\n",
      "5         60   2020/12/06'    102       127     300.0\n",
      "6         60   2020/12/07'    110       136     374.0\n",
      "7        450   2020/12/08'    104       134     253.3\n",
      "8         30   2020/12/09'    109       133     195.1\n",
      "9         60   2020/12/10'     98       124     269.0\n",
      "10        60   2020/12/11'    103       147     329.3\n",
      "11        60   2020/12/12'    100       120     250.7\n",
      "12        60   2020/12/12'    100       120     250.7\n",
      "13        60   2020/12/13'    106       128     345.3\n",
      "14        60   2020/12/14'    104       132     379.3\n",
      "15        60   2020/12/15'     98       123     275.0\n",
      "16        60   2020/12/16'     98       120     215.2\n",
      "17        60   2020/12/17'    100       120     300.0\n",
      "18        45   2020/12/18'     90       112       NaN\n",
      "19        60   2020/12/19'    103       123     323.0\n",
      "20        45   2020/12/20'     97       125     243.0\n",
      "21        60   2020/12/21'    108       131     364.2\n",
      "22        45           NaN    100       119     282.0\n",
      "23        60   2020/12/23'    130       101     300.0\n",
      "24        45   2020/12/24'    105       132     246.0\n",
      "25        60   2020/12/25'    102       126     334.5\n",
      "26        60   2020/12/26'    100       120     250.0\n",
      "27        60   2020/12/27'     92       118     241.0\n",
      "28        60   2020/12/28'    103       132       NaN\n",
      "29        60   2020/12/29'    100       132     280.0\n",
      "30        60   2020/12/30'    102       129     380.0\n",
      "31        60   2020/12/31'     92       115     243.0\n"
     ]
    }
   ],
   "source": [
    "print(dff.to_string())"
   ]
  },
  {
   "cell_type": "markdown",
   "id": "65929914",
   "metadata": {},
   "source": [
    "# Data Cleaning\n",
    "Data cleaning means fixing bad data in your data set.\n",
    "\n",
    "Bad data could be:\n",
    "\n",
    "Empty cells\n",
    "Data in wrong format\n",
    "Wrong data\n",
    "Duplicates\n"
   ]
  },
  {
   "cell_type": "code",
   "execution_count": 116,
   "id": "32c5c1aa",
   "metadata": {},
   "outputs": [],
   "source": [
    "df1 = pd.read_csv('df.csv')"
   ]
  },
  {
   "cell_type": "markdown",
   "id": "bd0c954b",
   "metadata": {},
   "source": [
    "# Empty Cells"
   ]
  },
  {
   "cell_type": "markdown",
   "id": "064479f5",
   "metadata": {},
   "source": [
    "# - Remove Rows\n",
    "One way to deal with empty cells is to remove rows that contain empty cells.\n",
    "\n",
    "This is usually OK, since data sets can be very big, and removing a few rows will not have a big impact on the result."
   ]
  },
  {
   "cell_type": "code",
   "execution_count": 117,
   "id": "2dc0b75e",
   "metadata": {},
   "outputs": [],
   "source": [
    "df1.dropna(inplace = True)"
   ]
  },
  {
   "cell_type": "code",
   "execution_count": 118,
   "id": "0ba8e440",
   "metadata": {},
   "outputs": [
    {
     "name": "stdout",
     "output_type": "stream",
     "text": [
      "    Duration        Date    Pulse  Maxpulse  Calories\n",
      "0         60   2020/12/01'    110       130     409.1\n",
      "1         60  '2020/12/02'    117       145     479.0\n",
      "2         60  '2020/12/03'    103       135     340.0\n",
      "3         45  '2020/12/04'    109       175     282.4\n",
      "4         45   2020/12/05'    117       148     406.0\n",
      "5         60   2020/12/06'    102       127     300.0\n",
      "6         60   2020/12/07'    110       136     374.0\n",
      "7        450   2020/12/08'    104       134     253.3\n",
      "8         30   2020/12/09'    109       133     195.1\n",
      "9         60   2020/12/10'     98       124     269.0\n",
      "10        60   2020/12/11'    103       147     329.3\n",
      "11        60   2020/12/12'    100       120     250.7\n",
      "12        60   2020/12/12'    100       120     250.7\n",
      "13        60   2020/12/13'    106       128     345.3\n",
      "14        60   2020/12/14'    104       132     379.3\n",
      "15        60   2020/12/15'     98       123     275.0\n",
      "16        60   2020/12/16'     98       120     215.2\n",
      "17        60   2020/12/17'    100       120     300.0\n",
      "19        60   2020/12/19'    103       123     323.0\n",
      "20        45   2020/12/20'     97       125     243.0\n",
      "21        60   2020/12/21'    108       131     364.2\n",
      "23        60   2020/12/23'    130       101     300.0\n",
      "24        45   2020/12/24'    105       132     246.0\n",
      "25        60   2020/12/25'    102       126     334.5\n",
      "26        60   2020/12/26'    100       120     250.0\n",
      "27        60   2020/12/27'     92       118     241.0\n",
      "29        60   2020/12/29'    100       132     280.0\n",
      "30        60   2020/12/30'    102       129     380.0\n",
      "31        60   2020/12/31'     92       115     243.0\n"
     ]
    }
   ],
   "source": [
    "print(df1.to_string())"
   ]
  },
  {
   "cell_type": "markdown",
   "id": "5ecae43d",
   "metadata": {},
   "source": [
    "# - Replace Empty Values\n",
    "Another way of dealing with empty cells is to insert a new value instead.\n",
    "\n",
    "The fillna() method allows us to replace empty cells with a value:"
   ]
  },
  {
   "cell_type": "code",
   "execution_count": 119,
   "id": "0a87a9e1",
   "metadata": {},
   "outputs": [],
   "source": [
    "df2 = pd.read_csv('df.csv')"
   ]
  },
  {
   "cell_type": "code",
   "execution_count": 120,
   "id": "e53171fa",
   "metadata": {},
   "outputs": [],
   "source": [
    "df2.fillna(130, inplace=True)"
   ]
  },
  {
   "cell_type": "code",
   "execution_count": 121,
   "id": "f35bce88",
   "metadata": {},
   "outputs": [
    {
     "name": "stdout",
     "output_type": "stream",
     "text": [
      "    Duration        Date    Pulse  Maxpulse  Calories\n",
      "0         60   2020/12/01'    110       130     409.1\n",
      "1         60  '2020/12/02'    117       145     479.0\n",
      "2         60  '2020/12/03'    103       135     340.0\n",
      "3         45  '2020/12/04'    109       175     282.4\n",
      "4         45   2020/12/05'    117       148     406.0\n",
      "5         60   2020/12/06'    102       127     300.0\n",
      "6         60   2020/12/07'    110       136     374.0\n",
      "7        450   2020/12/08'    104       134     253.3\n",
      "8         30   2020/12/09'    109       133     195.1\n",
      "9         60   2020/12/10'     98       124     269.0\n",
      "10        60   2020/12/11'    103       147     329.3\n",
      "11        60   2020/12/12'    100       120     250.7\n",
      "12        60   2020/12/12'    100       120     250.7\n",
      "13        60   2020/12/13'    106       128     345.3\n",
      "14        60   2020/12/14'    104       132     379.3\n",
      "15        60   2020/12/15'     98       123     275.0\n",
      "16        60   2020/12/16'     98       120     215.2\n",
      "17        60   2020/12/17'    100       120     300.0\n",
      "18        45   2020/12/18'     90       112     130.0\n",
      "19        60   2020/12/19'    103       123     323.0\n",
      "20        45   2020/12/20'     97       125     243.0\n",
      "21        60   2020/12/21'    108       131     364.2\n",
      "22        45           130    100       119     282.0\n",
      "23        60   2020/12/23'    130       101     300.0\n",
      "24        45   2020/12/24'    105       132     246.0\n",
      "25        60   2020/12/25'    102       126     334.5\n",
      "26        60   2020/12/26'    100       120     250.0\n",
      "27        60   2020/12/27'     92       118     241.0\n",
      "28        60   2020/12/28'    103       132     130.0\n",
      "29        60   2020/12/29'    100       132     280.0\n",
      "30        60   2020/12/30'    102       129     380.0\n",
      "31        60   2020/12/31'     92       115     243.0\n"
     ]
    }
   ],
   "source": [
    "print(df2.to_string())"
   ]
  },
  {
   "cell_type": "markdown",
   "id": "ca3222ea",
   "metadata": {},
   "source": [
    "# - Replace Only For Specified Columns\n",
    "The example above replaces all empty cells in the whole Data Frame."
   ]
  },
  {
   "cell_type": "code",
   "execution_count": 122,
   "id": "2866b64e",
   "metadata": {},
   "outputs": [],
   "source": [
    "df3 = pd.read_csv('df.csv')"
   ]
  },
  {
   "cell_type": "code",
   "execution_count": 123,
   "id": "b7c5ce38",
   "metadata": {},
   "outputs": [],
   "source": [
    "df3[\"Calories\"].fillna(130, inplace = True)"
   ]
  },
  {
   "cell_type": "code",
   "execution_count": 125,
   "id": "f6bfcbcf",
   "metadata": {},
   "outputs": [
    {
     "name": "stdout",
     "output_type": "stream",
     "text": [
      "    Duration        Date    Pulse  Maxpulse  Calories\n",
      "0         60   2020/12/01'    110       130     409.1\n",
      "1         60  '2020/12/02'    117       145     479.0\n",
      "2         60  '2020/12/03'    103       135     340.0\n",
      "3         45  '2020/12/04'    109       175     282.4\n",
      "4         45   2020/12/05'    117       148     406.0\n",
      "5         60   2020/12/06'    102       127     300.0\n",
      "6         60   2020/12/07'    110       136     374.0\n",
      "7        450   2020/12/08'    104       134     253.3\n",
      "8         30   2020/12/09'    109       133     195.1\n",
      "9         60   2020/12/10'     98       124     269.0\n",
      "10        60   2020/12/11'    103       147     329.3\n",
      "11        60   2020/12/12'    100       120     250.7\n",
      "12        60   2020/12/12'    100       120     250.7\n",
      "13        60   2020/12/13'    106       128     345.3\n",
      "14        60   2020/12/14'    104       132     379.3\n",
      "15        60   2020/12/15'     98       123     275.0\n",
      "16        60   2020/12/16'     98       120     215.2\n",
      "17        60   2020/12/17'    100       120     300.0\n",
      "18        45   2020/12/18'     90       112     130.0\n",
      "19        60   2020/12/19'    103       123     323.0\n",
      "20        45   2020/12/20'     97       125     243.0\n",
      "21        60   2020/12/21'    108       131     364.2\n",
      "22        45           NaN    100       119     282.0\n",
      "23        60   2020/12/23'    130       101     300.0\n",
      "24        45   2020/12/24'    105       132     246.0\n",
      "25        60   2020/12/25'    102       126     334.5\n",
      "26        60   2020/12/26'    100       120     250.0\n",
      "27        60   2020/12/27'     92       118     241.0\n",
      "28        60   2020/12/28'    103       132     130.0\n",
      "29        60   2020/12/29'    100       132     280.0\n",
      "30        60   2020/12/30'    102       129     380.0\n",
      "31        60   2020/12/31'     92       115     243.0\n"
     ]
    }
   ],
   "source": [
    "print(df3.to_string())"
   ]
  },
  {
   "cell_type": "markdown",
   "id": "df1d4f12",
   "metadata": {},
   "source": [
    "# - Replace Using Mean, Median, or Mode\n",
    "A common way to replace empty cells, is to calculate the mean, median or mode value of the column."
   ]
  },
  {
   "cell_type": "code",
   "execution_count": 126,
   "id": "e922e4f9",
   "metadata": {},
   "outputs": [],
   "source": [
    "df4 = pd.read_csv('df.csv')"
   ]
  },
  {
   "cell_type": "code",
   "execution_count": 127,
   "id": "8592fce3",
   "metadata": {},
   "outputs": [],
   "source": [
    "x = df4[\"Calories\"].mean()"
   ]
  },
  {
   "cell_type": "code",
   "execution_count": 128,
   "id": "385246e6",
   "metadata": {},
   "outputs": [],
   "source": [
    "df4[\"Calories\"].fillna(x, inplace = True)"
   ]
  },
  {
   "cell_type": "code",
   "execution_count": 129,
   "id": "543e2694",
   "metadata": {},
   "outputs": [
    {
     "name": "stdout",
     "output_type": "stream",
     "text": [
      "    Duration        Date    Pulse  Maxpulse  Calories\n",
      "0         60   2020/12/01'    110       130    409.10\n",
      "1         60  '2020/12/02'    117       145    479.00\n",
      "2         60  '2020/12/03'    103       135    340.00\n",
      "3         45  '2020/12/04'    109       175    282.40\n",
      "4         45   2020/12/05'    117       148    406.00\n",
      "5         60   2020/12/06'    102       127    300.00\n",
      "6         60   2020/12/07'    110       136    374.00\n",
      "7        450   2020/12/08'    104       134    253.30\n",
      "8         30   2020/12/09'    109       133    195.10\n",
      "9         60   2020/12/10'     98       124    269.00\n",
      "10        60   2020/12/11'    103       147    329.30\n",
      "11        60   2020/12/12'    100       120    250.70\n",
      "12        60   2020/12/12'    100       120    250.70\n",
      "13        60   2020/12/13'    106       128    345.30\n",
      "14        60   2020/12/14'    104       132    379.30\n",
      "15        60   2020/12/15'     98       123    275.00\n",
      "16        60   2020/12/16'     98       120    215.20\n",
      "17        60   2020/12/17'    100       120    300.00\n",
      "18        45   2020/12/18'     90       112    304.67\n",
      "19        60   2020/12/19'    103       123    323.00\n",
      "20        45   2020/12/20'     97       125    243.00\n",
      "21        60   2020/12/21'    108       131    364.20\n",
      "22        45           NaN    100       119    282.00\n",
      "23        60   2020/12/23'    130       101    300.00\n",
      "24        45   2020/12/24'    105       132    246.00\n",
      "25        60   2020/12/25'    102       126    334.50\n",
      "26        60   2020/12/26'    100       120    250.00\n",
      "27        60   2020/12/27'     92       118    241.00\n",
      "28        60   2020/12/28'    103       132    304.67\n",
      "29        60   2020/12/29'    100       132    280.00\n",
      "30        60   2020/12/30'    102       129    380.00\n",
      "31        60   2020/12/31'     92       115    243.00\n"
     ]
    }
   ],
   "source": [
    "print(df4.to_string())"
   ]
  },
  {
   "cell_type": "code",
   "execution_count": 132,
   "id": "0cc24bb7",
   "metadata": {},
   "outputs": [],
   "source": [
    "df5 = pd.read_csv('df.csv')"
   ]
  },
  {
   "cell_type": "code",
   "execution_count": 133,
   "id": "13caba5c",
   "metadata": {},
   "outputs": [],
   "source": [
    "y = df5[\"Calories\"].median()"
   ]
  },
  {
   "cell_type": "code",
   "execution_count": 134,
   "id": "3591ee72",
   "metadata": {},
   "outputs": [],
   "source": [
    "df5[\"Calories\"].fillna(y, inplace = True)"
   ]
  },
  {
   "cell_type": "code",
   "execution_count": 135,
   "id": "25df2ccf",
   "metadata": {},
   "outputs": [
    {
     "name": "stdout",
     "output_type": "stream",
     "text": [
      "    Duration        Date    Pulse  Maxpulse  Calories\n",
      "0         60   2020/12/01'    110       130     409.1\n",
      "1         60  '2020/12/02'    117       145     479.0\n",
      "2         60  '2020/12/03'    103       135     340.0\n",
      "3         45  '2020/12/04'    109       175     282.4\n",
      "4         45   2020/12/05'    117       148     406.0\n",
      "5         60   2020/12/06'    102       127     300.0\n",
      "6         60   2020/12/07'    110       136     374.0\n",
      "7        450   2020/12/08'    104       134     253.3\n",
      "8         30   2020/12/09'    109       133     195.1\n",
      "9         60   2020/12/10'     98       124     269.0\n",
      "10        60   2020/12/11'    103       147     329.3\n",
      "11        60   2020/12/12'    100       120     250.7\n",
      "12        60   2020/12/12'    100       120     250.7\n",
      "13        60   2020/12/13'    106       128     345.3\n",
      "14        60   2020/12/14'    104       132     379.3\n",
      "15        60   2020/12/15'     98       123     275.0\n",
      "16        60   2020/12/16'     98       120     215.2\n",
      "17        60   2020/12/17'    100       120     300.0\n",
      "18        45   2020/12/18'     90       112     291.2\n",
      "19        60   2020/12/19'    103       123     323.0\n",
      "20        45   2020/12/20'     97       125     243.0\n",
      "21        60   2020/12/21'    108       131     364.2\n",
      "22        45           NaN    100       119     282.0\n",
      "23        60   2020/12/23'    130       101     300.0\n",
      "24        45   2020/12/24'    105       132     246.0\n",
      "25        60   2020/12/25'    102       126     334.5\n",
      "26        60   2020/12/26'    100       120     250.0\n",
      "27        60   2020/12/27'     92       118     241.0\n",
      "28        60   2020/12/28'    103       132     291.2\n",
      "29        60   2020/12/29'    100       132     280.0\n",
      "30        60   2020/12/30'    102       129     380.0\n",
      "31        60   2020/12/31'     92       115     243.0\n"
     ]
    }
   ],
   "source": [
    "print(df5.to_string())"
   ]
  },
  {
   "cell_type": "code",
   "execution_count": 136,
   "id": "26aad93f",
   "metadata": {},
   "outputs": [],
   "source": [
    "df6 = pd.read_csv('df.csv')"
   ]
  },
  {
   "cell_type": "code",
   "execution_count": 139,
   "id": "f791628d",
   "metadata": {},
   "outputs": [],
   "source": [
    "z = df6[\"Calories\"].mode()[0]"
   ]
  },
  {
   "cell_type": "code",
   "execution_count": 140,
   "id": "57b64205",
   "metadata": {},
   "outputs": [
    {
     "name": "stdout",
     "output_type": "stream",
     "text": [
      "300.0\n"
     ]
    }
   ],
   "source": [
    "print(z)"
   ]
  },
  {
   "cell_type": "code",
   "execution_count": 141,
   "id": "c16b47fc",
   "metadata": {},
   "outputs": [],
   "source": [
    "df6[\"Calories\"].fillna(z, inplace = True)"
   ]
  },
  {
   "cell_type": "markdown",
   "id": "4d0e582c",
   "metadata": {},
   "source": [
    "# Data of Wrong Format\n",
    "Cells with data of wrong format can make it difficult, or even impossible, to analyze data.\n",
    "\n",
    "To fix it, you have two options: remove the rows, or convert all cells in the columns into the same format."
   ]
  },
  {
   "cell_type": "markdown",
   "id": "05468332",
   "metadata": {},
   "source": [
    "# - Convert Into a Correct Format"
   ]
  },
  {
   "cell_type": "code",
   "execution_count": 142,
   "id": "808e0e06",
   "metadata": {},
   "outputs": [],
   "source": [
    "df7 = pd.read_csv('calories.csv')"
   ]
  },
  {
   "cell_type": "markdown",
   "id": "f716ce78",
   "metadata": {},
   "source": [
    "In our Data Frame, we have two cells with the wrong format. Check out row 22 and 26, the 'Date' column should be a string that represents a date:"
   ]
  },
  {
   "cell_type": "code",
   "execution_count": 143,
   "id": "9edf56f7",
   "metadata": {
    "scrolled": true
   },
   "outputs": [
    {
     "name": "stdout",
     "output_type": "stream",
     "text": [
      "    Duration        Date    Pulse  Maxpulse  Calories\n",
      "0         60   2020/12/01'    110       130     409.1\n",
      "1         60  '2020/12/02'    117       145     479.0\n",
      "2         60  '2020/12/03'    103       135     340.0\n",
      "3         45  '2020/12/04'    109       175     282.4\n",
      "4         45   2020/12/05'    117       148     406.0\n",
      "5         60   2020/12/06'    102       127     300.0\n",
      "6         60   2020/12/07'    110       136     374.0\n",
      "7        450   2020/12/08'    104       134     253.3\n",
      "8         30   2020/12/09'    109       133     195.1\n",
      "9         60   2020/12/10'     98       124     269.0\n",
      "10        60   2020/12/11'    103       147     329.3\n",
      "11        60   2020/12/12'    100       120     250.7\n",
      "12        60   2020/12/12'    100       120     250.7\n",
      "13        60   2020/12/13'    106       128     345.3\n",
      "14        60   2020/12/14'    104       132     379.3\n",
      "15        60   2020/12/15'     98       123     275.0\n",
      "16        60   2020/12/16'     98       120     215.2\n",
      "17        60   2020/12/17'    100       120     300.0\n",
      "18        45   2020/12/18'     90       112       NaN\n",
      "19        60   2020/12/19'    103       123     323.0\n",
      "20        45   2020/12/20'     97       125     243.0\n",
      "21        60   2020/12/21'    108       131     364.2\n",
      "22        45           NaN    100       119     282.0\n",
      "23        60   2020/12/23'    130       101     300.0\n",
      "24        45   2020/12/24'    105       132     246.0\n",
      "25        60   2020/12/25'    102       126     334.5\n",
      "26        60      20201226    100       120     250.0\n",
      "27        60   2020/12/27'     92       118     241.0\n",
      "28        60   2020/12/28'    103       132       NaN\n",
      "29        60   2020/12/29'    100       132     280.0\n",
      "30        60   2020/12/30'    102       129     380.0\n",
      "31        60   2020/12/31'     92       115     243.0\n"
     ]
    }
   ],
   "source": [
    "print(df7.to_string())"
   ]
  },
  {
   "cell_type": "markdown",
   "id": "b826430b",
   "metadata": {},
   "source": [
    "to convert all cells in the 'Date' column into dates.\n",
    "\n",
    "Pandas has a to_datetime() method for this:"
   ]
  },
  {
   "cell_type": "code",
   "execution_count": 151,
   "id": "3a0ae1c8",
   "metadata": {},
   "outputs": [],
   "source": [
    "df7['Date  '] = pd.to_datetime(df7['Date  '])"
   ]
  },
  {
   "cell_type": "code",
   "execution_count": 152,
   "id": "00ac6031",
   "metadata": {},
   "outputs": [
    {
     "name": "stdout",
     "output_type": "stream",
     "text": [
      "<bound method DataFrame.to_string of     Duration     Date    Pulse  Maxpulse  Calories\n",
      "0         60 2020-12-01    110       130     409.1\n",
      "1         60 2020-12-02    117       145     479.0\n",
      "2         60 2020-12-03    103       135     340.0\n",
      "3         45 2020-12-04    109       175     282.4\n",
      "4         45 2020-12-05    117       148     406.0\n",
      "5         60 2020-12-06    102       127     300.0\n",
      "6         60 2020-12-07    110       136     374.0\n",
      "7        450 2020-12-08    104       134     253.3\n",
      "8         30 2020-12-09    109       133     195.1\n",
      "9         60 2020-12-10     98       124     269.0\n",
      "10        60 2020-12-11    103       147     329.3\n",
      "11        60 2020-12-12    100       120     250.7\n",
      "12        60 2020-12-12    100       120     250.7\n",
      "13        60 2020-12-13    106       128     345.3\n",
      "14        60 2020-12-14    104       132     379.3\n",
      "15        60 2020-12-15     98       123     275.0\n",
      "16        60 2020-12-16     98       120     215.2\n",
      "17        60 2020-12-17    100       120     300.0\n",
      "18        45 2020-12-18     90       112       NaN\n",
      "19        60 2020-12-19    103       123     323.0\n",
      "20        45 2020-12-20     97       125     243.0\n",
      "21        60 2020-12-21    108       131     364.2\n",
      "22        45        NaT    100       119     282.0\n",
      "23        60 2020-12-23    130       101     300.0\n",
      "24        45 2020-12-24    105       132     246.0\n",
      "25        60 2020-12-25    102       126     334.5\n",
      "26        60 2020-12-26    100       120     250.0\n",
      "27        60 2020-12-27     92       118     241.0\n",
      "28        60 2020-12-28    103       132       NaN\n",
      "29        60 2020-12-29    100       132     280.0\n",
      "30        60 2020-12-30    102       129     380.0\n",
      "31        60 2020-12-31     92       115     243.0>\n"
     ]
    }
   ],
   "source": [
    "# NaT = (Not a Time), in other words an empty value\n",
    "print(df7.to_string)"
   ]
  },
  {
   "cell_type": "code",
   "execution_count": 153,
   "id": "f41fdd6a",
   "metadata": {},
   "outputs": [],
   "source": [
    "# Remove rows with a NULL value in the \"Date\" column:\n",
    "df7.dropna(subset=['Date  '], inplace = True)"
   ]
  },
  {
   "cell_type": "code",
   "execution_count": 155,
   "id": "72111d2f",
   "metadata": {},
   "outputs": [
    {
     "name": "stdout",
     "output_type": "stream",
     "text": [
      "    Duration     Date    Pulse  Maxpulse  Calories\n",
      "0         60 2020-12-01    110       130     409.1\n",
      "1         60 2020-12-02    117       145     479.0\n",
      "2         60 2020-12-03    103       135     340.0\n",
      "3         45 2020-12-04    109       175     282.4\n",
      "4         45 2020-12-05    117       148     406.0\n",
      "5         60 2020-12-06    102       127     300.0\n",
      "6         60 2020-12-07    110       136     374.0\n",
      "7        450 2020-12-08    104       134     253.3\n",
      "8         30 2020-12-09    109       133     195.1\n",
      "9         60 2020-12-10     98       124     269.0\n",
      "10        60 2020-12-11    103       147     329.3\n",
      "11        60 2020-12-12    100       120     250.7\n",
      "12        60 2020-12-12    100       120     250.7\n",
      "13        60 2020-12-13    106       128     345.3\n",
      "14        60 2020-12-14    104       132     379.3\n",
      "15        60 2020-12-15     98       123     275.0\n",
      "16        60 2020-12-16     98       120     215.2\n",
      "17        60 2020-12-17    100       120     300.0\n",
      "18        45 2020-12-18     90       112       NaN\n",
      "19        60 2020-12-19    103       123     323.0\n",
      "20        45 2020-12-20     97       125     243.0\n",
      "21        60 2020-12-21    108       131     364.2\n",
      "23        60 2020-12-23    130       101     300.0\n",
      "24        45 2020-12-24    105       132     246.0\n",
      "25        60 2020-12-25    102       126     334.5\n",
      "26        60 2020-12-26    100       120     250.0\n",
      "27        60 2020-12-27     92       118     241.0\n",
      "28        60 2020-12-28    103       132       NaN\n",
      "29        60 2020-12-29    100       132     280.0\n",
      "30        60 2020-12-30    102       129     380.0\n",
      "31        60 2020-12-31     92       115     243.0\n"
     ]
    }
   ],
   "source": [
    "print(df7.to_string())"
   ]
  },
  {
   "cell_type": "markdown",
   "id": "b853256a",
   "metadata": {},
   "source": [
    "# Pandas - Fixing Wrong Data"
   ]
  },
  {
   "cell_type": "markdown",
   "id": "29b61ccd",
   "metadata": {},
   "source": [
    "# * Wrong Data\n",
    "\n",
    "\"Wrong data\" does not have to be \"empty cells\" or \"wrong format\", it can just be wrong, like if someone registered \"199\" instead of \"1.99\".\n",
    "\n",
    "If you take a look at our data set, you can see that in row 7, the duration is 450, but for all the other rows the duration is between 30 and 60."
   ]
  },
  {
   "cell_type": "code",
   "execution_count": 157,
   "id": "a6825bc0",
   "metadata": {},
   "outputs": [
    {
     "name": "stdout",
     "output_type": "stream",
     "text": [
      "    Duration        Date    Pulse  Maxpulse  Calories\n",
      "0         60   2020/12/01'    110       130     409.1\n",
      "1         60  '2020/12/02'    117       145     479.0\n",
      "2         60  '2020/12/03'    103       135     340.0\n",
      "3         45  '2020/12/04'    109       175     282.4\n",
      "4         45   2020/12/05'    117       148     406.0\n",
      "5         60   2020/12/06'    102       127     300.0\n",
      "6         60   2020/12/07'    110       136     374.0\n",
      "7        450   2020/12/08'    104       134     253.3\n",
      "8         30   2020/12/09'    109       133     195.1\n",
      "9         60   2020/12/10'     98       124     269.0\n",
      "10        60   2020/12/11'    103       147     329.3\n",
      "11        60   2020/12/12'    100       120     250.7\n",
      "12        60   2020/12/12'    100       120     250.7\n",
      "13        60   2020/12/13'    106       128     345.3\n",
      "14        60   2020/12/14'    104       132     379.3\n",
      "15        60   2020/12/15'     98       123     275.0\n",
      "16        60   2020/12/16'     98       120     215.2\n",
      "17        60   2020/12/17'    100       120     300.0\n",
      "18        45   2020/12/18'     90       112       NaN\n",
      "19        60   2020/12/19'    103       123     323.0\n",
      "20        45   2020/12/20'     97       125     243.0\n",
      "21        60   2020/12/21'    108       131     364.2\n",
      "22        45           NaN    100       119     282.0\n",
      "23        60   2020/12/23'    130       101     300.0\n",
      "24        45   2020/12/24'    105       132     246.0\n",
      "25        60   2020/12/25'    102       126     334.5\n",
      "26        60   2020/12/26'    100       120     250.0\n",
      "27        60   2020/12/27'     92       118     241.0\n",
      "28        60   2020/12/28'    103       132       NaN\n",
      "29        60   2020/12/29'    100       132     280.0\n",
      "30        60   2020/12/30'    102       129     380.0\n",
      "31        60   2020/12/31'     92       115     243.0\n"
     ]
    }
   ],
   "source": [
    "df8 = pd.read_csv('df.csv')\n",
    "print(df8.to_string())"
   ]
  },
  {
   "cell_type": "markdown",
   "id": "883e5bf8",
   "metadata": {},
   "source": [
    "# - Replacing Values\n",
    "One way to fix wrong values is to replace them with something else."
   ]
  },
  {
   "cell_type": "code",
   "execution_count": 158,
   "id": "ed969507",
   "metadata": {},
   "outputs": [],
   "source": [
    "# Set \"Duration\" = 45 in row 7:\n",
    "df8.loc[7, 'Duration'] = 45"
   ]
  },
  {
   "cell_type": "code",
   "execution_count": 159,
   "id": "d835ae92",
   "metadata": {},
   "outputs": [
    {
     "name": "stdout",
     "output_type": "stream",
     "text": [
      "    Duration        Date    Pulse  Maxpulse  Calories\n",
      "0         60   2020/12/01'    110       130     409.1\n",
      "1         60  '2020/12/02'    117       145     479.0\n",
      "2         60  '2020/12/03'    103       135     340.0\n",
      "3         45  '2020/12/04'    109       175     282.4\n",
      "4         45   2020/12/05'    117       148     406.0\n",
      "5         60   2020/12/06'    102       127     300.0\n",
      "6         60   2020/12/07'    110       136     374.0\n",
      "7         45   2020/12/08'    104       134     253.3\n",
      "8         30   2020/12/09'    109       133     195.1\n",
      "9         60   2020/12/10'     98       124     269.0\n",
      "10        60   2020/12/11'    103       147     329.3\n",
      "11        60   2020/12/12'    100       120     250.7\n",
      "12        60   2020/12/12'    100       120     250.7\n",
      "13        60   2020/12/13'    106       128     345.3\n",
      "14        60   2020/12/14'    104       132     379.3\n",
      "15        60   2020/12/15'     98       123     275.0\n",
      "16        60   2020/12/16'     98       120     215.2\n",
      "17        60   2020/12/17'    100       120     300.0\n",
      "18        45   2020/12/18'     90       112       NaN\n",
      "19        60   2020/12/19'    103       123     323.0\n",
      "20        45   2020/12/20'     97       125     243.0\n",
      "21        60   2020/12/21'    108       131     364.2\n",
      "22        45           NaN    100       119     282.0\n",
      "23        60   2020/12/23'    130       101     300.0\n",
      "24        45   2020/12/24'    105       132     246.0\n",
      "25        60   2020/12/25'    102       126     334.5\n",
      "26        60   2020/12/26'    100       120     250.0\n",
      "27        60   2020/12/27'     92       118     241.0\n",
      "28        60   2020/12/28'    103       132       NaN\n",
      "29        60   2020/12/29'    100       132     280.0\n",
      "30        60   2020/12/30'    102       129     380.0\n",
      "31        60   2020/12/31'     92       115     243.0\n"
     ]
    }
   ],
   "source": [
    "print(df8.to_string())"
   ]
  },
  {
   "cell_type": "code",
   "execution_count": 160,
   "id": "98af31fc",
   "metadata": {},
   "outputs": [
    {
     "name": "stdout",
     "output_type": "stream",
     "text": [
      "    Duration        Date    Pulse  Maxpulse  Calories\n",
      "0         60   2020/12/01'    110       130     409.1\n",
      "1         60  '2020/12/02'    117       145     479.0\n",
      "2         60  '2020/12/03'    103       135     340.0\n",
      "3         45  '2020/12/04'    109       175     282.4\n",
      "4         45   2020/12/05'    117       148     406.0\n",
      "5         60   2020/12/06'    102       127     300.0\n",
      "6         60   2020/12/07'    110       136     374.0\n",
      "7        450   2020/12/08'    104       134     253.3\n",
      "8         30   2020/12/09'    109       133     195.1\n",
      "9         60   2020/12/10'     98       124     269.0\n",
      "10        60   2020/12/11'    103       147     329.3\n",
      "11        60   2020/12/12'    100       120     250.7\n",
      "12        60   2020/12/12'    100       120     250.7\n",
      "13        60   2020/12/13'    106       128     345.3\n",
      "14        60   2020/12/14'    104       132     379.3\n",
      "15        60   2020/12/15'     98       123     275.0\n",
      "16        60   2020/12/16'     98       120     215.2\n",
      "17        60   2020/12/17'    100       120     300.0\n",
      "18        45   2020/12/18'     90       112       NaN\n",
      "19        60   2020/12/19'    103       123     323.0\n",
      "20        45   2020/12/20'     97       125     243.0\n",
      "21        60   2020/12/21'    108       131     364.2\n",
      "22        45           NaN    100       119     282.0\n",
      "23        60   2020/12/23'    130       101     300.0\n",
      "24        45   2020/12/24'    105       132     246.0\n",
      "25        60   2020/12/25'    102       126     334.5\n",
      "26        60   2020/12/26'    100       120     250.0\n",
      "27        60   2020/12/27'     92       118     241.0\n",
      "28        60   2020/12/28'    103       132       NaN\n",
      "29        60   2020/12/29'    100       132     280.0\n",
      "30        60   2020/12/30'    102       129     380.0\n",
      "31        60   2020/12/31'     92       115     243.0\n"
     ]
    }
   ],
   "source": [
    "df9 = pd.read_csv('df.csv')\n",
    "print(df9.to_string())"
   ]
  },
  {
   "cell_type": "code",
   "execution_count": 161,
   "id": "e999e150",
   "metadata": {},
   "outputs": [],
   "source": [
    "for x in df.index:\n",
    "  if df9.loc[x, \"Duration\"] > 120:\n",
    "    df9.loc[x, \"Duration\"] = 120"
   ]
  },
  {
   "cell_type": "code",
   "execution_count": 162,
   "id": "817b8132",
   "metadata": {},
   "outputs": [
    {
     "name": "stdout",
     "output_type": "stream",
     "text": [
      "    Duration        Date    Pulse  Maxpulse  Calories\n",
      "0         60   2020/12/01'    110       130     409.1\n",
      "1         60  '2020/12/02'    117       145     479.0\n",
      "2         60  '2020/12/03'    103       135     340.0\n",
      "3         45  '2020/12/04'    109       175     282.4\n",
      "4         45   2020/12/05'    117       148     406.0\n",
      "5         60   2020/12/06'    102       127     300.0\n",
      "6         60   2020/12/07'    110       136     374.0\n",
      "7        120   2020/12/08'    104       134     253.3\n",
      "8         30   2020/12/09'    109       133     195.1\n",
      "9         60   2020/12/10'     98       124     269.0\n",
      "10        60   2020/12/11'    103       147     329.3\n",
      "11        60   2020/12/12'    100       120     250.7\n",
      "12        60   2020/12/12'    100       120     250.7\n",
      "13        60   2020/12/13'    106       128     345.3\n",
      "14        60   2020/12/14'    104       132     379.3\n",
      "15        60   2020/12/15'     98       123     275.0\n",
      "16        60   2020/12/16'     98       120     215.2\n",
      "17        60   2020/12/17'    100       120     300.0\n",
      "18        45   2020/12/18'     90       112       NaN\n",
      "19        60   2020/12/19'    103       123     323.0\n",
      "20        45   2020/12/20'     97       125     243.0\n",
      "21        60   2020/12/21'    108       131     364.2\n",
      "22        45           NaN    100       119     282.0\n",
      "23        60   2020/12/23'    130       101     300.0\n",
      "24        45   2020/12/24'    105       132     246.0\n",
      "25        60   2020/12/25'    102       126     334.5\n",
      "26        60   2020/12/26'    100       120     250.0\n",
      "27        60   2020/12/27'     92       118     241.0\n",
      "28        60   2020/12/28'    103       132       NaN\n",
      "29        60   2020/12/29'    100       132     280.0\n",
      "30        60   2020/12/30'    102       129     380.0\n",
      "31        60   2020/12/31'     92       115     243.0\n"
     ]
    }
   ],
   "source": [
    "print(df9.to_string())"
   ]
  },
  {
   "cell_type": "markdown",
   "id": "07b38452",
   "metadata": {},
   "source": [
    "# - Removing Rows\n",
    "Another way of handling wrong data is to remove the rows that contains wrong data."
   ]
  },
  {
   "cell_type": "code",
   "execution_count": 163,
   "id": "6812db16",
   "metadata": {},
   "outputs": [
    {
     "name": "stdout",
     "output_type": "stream",
     "text": [
      "    Duration        Date    Pulse  Maxpulse  Calories\n",
      "0         60   2020/12/01'    110       130     409.1\n",
      "1         60  '2020/12/02'    117       145     479.0\n",
      "2         60  '2020/12/03'    103       135     340.0\n",
      "3         45  '2020/12/04'    109       175     282.4\n",
      "4         45   2020/12/05'    117       148     406.0\n",
      "5         60   2020/12/06'    102       127     300.0\n",
      "6         60   2020/12/07'    110       136     374.0\n",
      "7        450   2020/12/08'    104       134     253.3\n",
      "8         30   2020/12/09'    109       133     195.1\n",
      "9         60   2020/12/10'     98       124     269.0\n",
      "10        60   2020/12/11'    103       147     329.3\n",
      "11        60   2020/12/12'    100       120     250.7\n",
      "12        60   2020/12/12'    100       120     250.7\n",
      "13        60   2020/12/13'    106       128     345.3\n",
      "14        60   2020/12/14'    104       132     379.3\n",
      "15        60   2020/12/15'     98       123     275.0\n",
      "16        60   2020/12/16'     98       120     215.2\n",
      "17        60   2020/12/17'    100       120     300.0\n",
      "18        45   2020/12/18'     90       112       NaN\n",
      "19        60   2020/12/19'    103       123     323.0\n",
      "20        45   2020/12/20'     97       125     243.0\n",
      "21        60   2020/12/21'    108       131     364.2\n",
      "22        45           NaN    100       119     282.0\n",
      "23        60   2020/12/23'    130       101     300.0\n",
      "24        45   2020/12/24'    105       132     246.0\n",
      "25        60   2020/12/25'    102       126     334.5\n",
      "26        60   2020/12/26'    100       120     250.0\n",
      "27        60   2020/12/27'     92       118     241.0\n",
      "28        60   2020/12/28'    103       132       NaN\n",
      "29        60   2020/12/29'    100       132     280.0\n",
      "30        60   2020/12/30'    102       129     380.0\n",
      "31        60   2020/12/31'     92       115     243.0\n"
     ]
    }
   ],
   "source": [
    "df10 = pd.read_csv('df.csv')\n",
    "print(df10.to_string())"
   ]
  },
  {
   "cell_type": "code",
   "execution_count": 164,
   "id": "e8b52083",
   "metadata": {},
   "outputs": [],
   "source": [
    "# Delete rows where \"Duration\" is higher than 120:\n",
    "for x in df10.index:\n",
    "    if df10.loc[x, \"Duration\"] > 120:\n",
    "        df10.drop(x, inplace = True)"
   ]
  },
  {
   "cell_type": "code",
   "execution_count": 165,
   "id": "4b144a39",
   "metadata": {},
   "outputs": [
    {
     "name": "stdout",
     "output_type": "stream",
     "text": [
      "    Duration        Date    Pulse  Maxpulse  Calories\n",
      "0         60   2020/12/01'    110       130     409.1\n",
      "1         60  '2020/12/02'    117       145     479.0\n",
      "2         60  '2020/12/03'    103       135     340.0\n",
      "3         45  '2020/12/04'    109       175     282.4\n",
      "4         45   2020/12/05'    117       148     406.0\n",
      "5         60   2020/12/06'    102       127     300.0\n",
      "6         60   2020/12/07'    110       136     374.0\n",
      "8         30   2020/12/09'    109       133     195.1\n",
      "9         60   2020/12/10'     98       124     269.0\n",
      "10        60   2020/12/11'    103       147     329.3\n",
      "11        60   2020/12/12'    100       120     250.7\n",
      "12        60   2020/12/12'    100       120     250.7\n",
      "13        60   2020/12/13'    106       128     345.3\n",
      "14        60   2020/12/14'    104       132     379.3\n",
      "15        60   2020/12/15'     98       123     275.0\n",
      "16        60   2020/12/16'     98       120     215.2\n",
      "17        60   2020/12/17'    100       120     300.0\n",
      "18        45   2020/12/18'     90       112       NaN\n",
      "19        60   2020/12/19'    103       123     323.0\n",
      "20        45   2020/12/20'     97       125     243.0\n",
      "21        60   2020/12/21'    108       131     364.2\n",
      "22        45           NaN    100       119     282.0\n",
      "23        60   2020/12/23'    130       101     300.0\n",
      "24        45   2020/12/24'    105       132     246.0\n",
      "25        60   2020/12/25'    102       126     334.5\n",
      "26        60   2020/12/26'    100       120     250.0\n",
      "27        60   2020/12/27'     92       118     241.0\n",
      "28        60   2020/12/28'    103       132       NaN\n",
      "29        60   2020/12/29'    100       132     280.0\n",
      "30        60   2020/12/30'    102       129     380.0\n",
      "31        60   2020/12/31'     92       115     243.0\n"
     ]
    }
   ],
   "source": [
    "print(df10.to_string())"
   ]
  },
  {
   "cell_type": "markdown",
   "id": "c1d34d31",
   "metadata": {},
   "source": [
    "# Pandas - Removing Duplicates\n",
    "Duplicate rows are rows that have been registered more than one time."
   ]
  },
  {
   "cell_type": "code",
   "execution_count": 166,
   "id": "62c7cf18",
   "metadata": {},
   "outputs": [
    {
     "name": "stdout",
     "output_type": "stream",
     "text": [
      "    Duration        Date    Pulse  Maxpulse  Calories\n",
      "0         60   2020/12/01'    110       130     409.1\n",
      "1         60  '2020/12/02'    117       145     479.0\n",
      "2         60  '2020/12/03'    103       135     340.0\n",
      "3         45  '2020/12/04'    109       175     282.4\n",
      "4         45   2020/12/05'    117       148     406.0\n",
      "5         60   2020/12/06'    102       127     300.0\n",
      "6         60   2020/12/07'    110       136     374.0\n",
      "7        450   2020/12/08'    104       134     253.3\n",
      "8         30   2020/12/09'    109       133     195.1\n",
      "9         60   2020/12/10'     98       124     269.0\n",
      "10        60   2020/12/11'    103       147     329.3\n",
      "11        60   2020/12/12'    100       120     250.7\n",
      "12        60   2020/12/12'    100       120     250.7\n",
      "13        60   2020/12/13'    106       128     345.3\n",
      "14        60   2020/12/14'    104       132     379.3\n",
      "15        60   2020/12/15'     98       123     275.0\n",
      "16        60   2020/12/16'     98       120     215.2\n",
      "17        60   2020/12/17'    100       120     300.0\n",
      "18        45   2020/12/18'     90       112       NaN\n",
      "19        60   2020/12/19'    103       123     323.0\n",
      "20        45   2020/12/20'     97       125     243.0\n",
      "21        60   2020/12/21'    108       131     364.2\n",
      "22        45           NaN    100       119     282.0\n",
      "23        60   2020/12/23'    130       101     300.0\n",
      "24        45   2020/12/24'    105       132     246.0\n",
      "25        60   2020/12/25'    102       126     334.5\n",
      "26        60   2020/12/26'    100       120     250.0\n",
      "27        60   2020/12/27'     92       118     241.0\n",
      "28        60   2020/12/28'    103       132       NaN\n",
      "29        60   2020/12/29'    100       132     280.0\n",
      "30        60   2020/12/30'    102       129     380.0\n",
      "31        60   2020/12/31'     92       115     243.0\n"
     ]
    }
   ],
   "source": [
    "df11 = pd.read_csv('df.csv')\n",
    "print(df11.to_string())"
   ]
  },
  {
   "cell_type": "markdown",
   "id": "63890535",
   "metadata": {},
   "source": [
    "By taking a look at our test data set, we can assume that row 11 and 12 are duplicates.\n",
    "\n",
    "To discover duplicates, we can use the duplicated() method."
   ]
  },
  {
   "cell_type": "code",
   "execution_count": 168,
   "id": "130c62ce",
   "metadata": {},
   "outputs": [
    {
     "name": "stdout",
     "output_type": "stream",
     "text": [
      "0     False\n",
      "1     False\n",
      "2     False\n",
      "3     False\n",
      "4     False\n",
      "5     False\n",
      "6     False\n",
      "7     False\n",
      "8     False\n",
      "9     False\n",
      "10    False\n",
      "11    False\n",
      "12     True\n",
      "13    False\n",
      "14    False\n",
      "15    False\n",
      "16    False\n",
      "17    False\n",
      "18    False\n",
      "19    False\n",
      "20    False\n",
      "21    False\n",
      "22    False\n",
      "23    False\n",
      "24    False\n",
      "25    False\n",
      "26    False\n",
      "27    False\n",
      "28    False\n",
      "29    False\n",
      "30    False\n",
      "31    False\n",
      "dtype: bool\n"
     ]
    }
   ],
   "source": [
    "# Returns True for every row that is a duplicate, othwerwise False:\n",
    "print(df11.duplicated())"
   ]
  },
  {
   "cell_type": "markdown",
   "id": "2b6880d9",
   "metadata": {},
   "source": [
    "# - Removing Duplicates\n",
    "To remove duplicates, use the drop_duplicates() method."
   ]
  },
  {
   "cell_type": "code",
   "execution_count": 169,
   "id": "e3d912f7",
   "metadata": {},
   "outputs": [],
   "source": [
    "# Remove all duplicates:\n",
    "df11.drop_duplicates(inplace = True)"
   ]
  },
  {
   "cell_type": "markdown",
   "id": "ce76a5cc",
   "metadata": {},
   "source": [
    "# Pandas - Data Correlations"
   ]
  },
  {
   "cell_type": "markdown",
   "id": "65d1ca77",
   "metadata": {},
   "source": [
    "# - Finding Relationships\n",
    "A great aspect of the Pandas module is the corr() method.\n",
    "\n",
    "The corr() method calculates the relationship between each column in your data set.\n",
    "\n",
    "The corr() method ignores \"not numeric\" columns."
   ]
  },
  {
   "cell_type": "code",
   "execution_count": 170,
   "id": "e0cb37b1",
   "metadata": {},
   "outputs": [
    {
     "data": {
      "text/html": [
       "<div>\n",
       "<style scoped>\n",
       "    .dataframe tbody tr th:only-of-type {\n",
       "        vertical-align: middle;\n",
       "    }\n",
       "\n",
       "    .dataframe tbody tr th {\n",
       "        vertical-align: top;\n",
       "    }\n",
       "\n",
       "    .dataframe thead th {\n",
       "        text-align: right;\n",
       "    }\n",
       "</style>\n",
       "<table border=\"1\" class=\"dataframe\">\n",
       "  <thead>\n",
       "    <tr style=\"text-align: right;\">\n",
       "      <th></th>\n",
       "      <th>Duration</th>\n",
       "      <th>Pulse</th>\n",
       "      <th>Maxpulse</th>\n",
       "      <th>Calories</th>\n",
       "    </tr>\n",
       "  </thead>\n",
       "  <tbody>\n",
       "    <tr>\n",
       "      <th>Duration</th>\n",
       "      <td>1.000000</td>\n",
       "      <td>-0.000572</td>\n",
       "      <td>0.042271</td>\n",
       "      <td>-0.118818</td>\n",
       "    </tr>\n",
       "    <tr>\n",
       "      <th>Pulse</th>\n",
       "      <td>-0.000572</td>\n",
       "      <td>1.000000</td>\n",
       "      <td>0.269000</td>\n",
       "      <td>0.510495</td>\n",
       "    </tr>\n",
       "    <tr>\n",
       "      <th>Maxpulse</th>\n",
       "      <td>0.042271</td>\n",
       "      <td>0.269000</td>\n",
       "      <td>1.000000</td>\n",
       "      <td>0.352596</td>\n",
       "    </tr>\n",
       "    <tr>\n",
       "      <th>Calories</th>\n",
       "      <td>-0.118818</td>\n",
       "      <td>0.510495</td>\n",
       "      <td>0.352596</td>\n",
       "      <td>1.000000</td>\n",
       "    </tr>\n",
       "  </tbody>\n",
       "</table>\n",
       "</div>"
      ],
      "text/plain": [
       "          Duration     Pulse  Maxpulse  Calories\n",
       "Duration  1.000000 -0.000572  0.042271 -0.118818\n",
       "Pulse    -0.000572  1.000000  0.269000  0.510495\n",
       "Maxpulse  0.042271  0.269000  1.000000  0.352596\n",
       "Calories -0.118818  0.510495  0.352596  1.000000"
      ]
     },
     "execution_count": 170,
     "metadata": {},
     "output_type": "execute_result"
    }
   ],
   "source": [
    "df7.corr()"
   ]
  },
  {
   "cell_type": "code",
   "execution_count": 171,
   "id": "3342da20",
   "metadata": {},
   "outputs": [
    {
     "data": {
      "text/html": [
       "<div>\n",
       "<style scoped>\n",
       "    .dataframe tbody tr th:only-of-type {\n",
       "        vertical-align: middle;\n",
       "    }\n",
       "\n",
       "    .dataframe tbody tr th {\n",
       "        vertical-align: top;\n",
       "    }\n",
       "\n",
       "    .dataframe thead th {\n",
       "        text-align: right;\n",
       "    }\n",
       "</style>\n",
       "<table border=\"1\" class=\"dataframe\">\n",
       "  <thead>\n",
       "    <tr style=\"text-align: right;\">\n",
       "      <th></th>\n",
       "      <th>Duration</th>\n",
       "      <th>Pulse</th>\n",
       "      <th>Maxpulse</th>\n",
       "      <th>Calories</th>\n",
       "    </tr>\n",
       "  </thead>\n",
       "  <tbody>\n",
       "    <tr>\n",
       "      <th>Duration</th>\n",
       "      <td>1.000000</td>\n",
       "      <td>0.002627</td>\n",
       "      <td>0.047688</td>\n",
       "      <td>-0.119475</td>\n",
       "    </tr>\n",
       "    <tr>\n",
       "      <th>Pulse</th>\n",
       "      <td>0.002627</td>\n",
       "      <td>1.000000</td>\n",
       "      <td>0.269672</td>\n",
       "      <td>0.506727</td>\n",
       "    </tr>\n",
       "    <tr>\n",
       "      <th>Maxpulse</th>\n",
       "      <td>0.047688</td>\n",
       "      <td>0.269672</td>\n",
       "      <td>1.000000</td>\n",
       "      <td>0.344558</td>\n",
       "    </tr>\n",
       "    <tr>\n",
       "      <th>Calories</th>\n",
       "      <td>-0.119475</td>\n",
       "      <td>0.506727</td>\n",
       "      <td>0.344558</td>\n",
       "      <td>1.000000</td>\n",
       "    </tr>\n",
       "  </tbody>\n",
       "</table>\n",
       "</div>"
      ],
      "text/plain": [
       "          Duration     Pulse  Maxpulse  Calories\n",
       "Duration  1.000000  0.002627  0.047688 -0.119475\n",
       "Pulse     0.002627  1.000000  0.269672  0.506727\n",
       "Maxpulse  0.047688  0.269672  1.000000  0.344558\n",
       "Calories -0.119475  0.506727  0.344558  1.000000"
      ]
     },
     "execution_count": 171,
     "metadata": {},
     "output_type": "execute_result"
    }
   ],
   "source": [
    "df11.corr()"
   ]
  },
  {
   "cell_type": "code",
   "execution_count": null,
   "id": "eb65d8a9",
   "metadata": {},
   "outputs": [],
   "source": []
  }
 ],
 "metadata": {
  "kernelspec": {
   "display_name": "Python 3 (ipykernel)",
   "language": "python",
   "name": "python3"
  },
  "language_info": {
   "codemirror_mode": {
    "name": "ipython",
    "version": 3
   },
   "file_extension": ".py",
   "mimetype": "text/x-python",
   "name": "python",
   "nbconvert_exporter": "python",
   "pygments_lexer": "ipython3",
   "version": "3.9.13"
  }
 },
 "nbformat": 4,
 "nbformat_minor": 5
}
